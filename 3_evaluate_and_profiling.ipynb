{
 "cells": [
  {
   "cell_type": "code",
   "execution_count": null,
   "metadata": {
    "vscode": {
     "languageId": "plaintext"
    }
   },
   "outputs": [],
   "source": []
  },
  {
   "cell_type": "markdown",
   "metadata": {},
   "source": [
    "## Tracing using Phoenix\n",
    "\n",
    "Allows you to:\n",
    "Tracks each LLM call, intermediate step, and final answer.\n",
    "\n",
    "Visualizes traces like:\n",
    "\n",
    "Question → Retrieval → Answer\n",
    "\n",
    "Tool calls → Outputs → Final response\n",
    "\n",
    "Compare different prompts\n",
    "\n",
    "Trace why certain responses fail\n",
    "\n",
    "See if retrieval is returning the right documents\n",
    "\n",
    "Spot bad answers caused by hallucination, bad context, or tool misuse"
   ]
  },
  {
   "cell_type": "markdown",
   "metadata": {},
   "source": []
  }
 ],
 "metadata": {
  "language_info": {
   "name": "python"
  }
 },
 "nbformat": 4,
 "nbformat_minor": 2
}

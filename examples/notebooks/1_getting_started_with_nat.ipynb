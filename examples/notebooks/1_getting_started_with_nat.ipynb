{
 "cells": [
  {
   "cell_type": "markdown",
   "metadata": {
    "id": "PjRuzfwyImeC"
   },
   "source": [
    "# Getting Started with NeMo Agent Toolkit\n",
    "\n",
    "In this notebook, we walk through the basics of using NeMo Agent toolkit (NAT), from installation all the way to creating and running a simple workflow."
   ]
  },
  {
   "cell_type": "markdown",
   "metadata": {
    "id": "VFUT0d7NJrtv"
   },
   "source": [
    "## Prerequisites"
   ]
  },
  {
   "cell_type": "markdown",
   "metadata": {
    "id": "i4OTdB6wTdRZ"
   },
   "source": [
    "- **Platform:** Linux, macOS, or Windows\n",
    "- **Python:** version 3.11, 3.12, or 3.13\n",
    "- **Python Packages:** `pip`"
   ]
  },
  {
   "cell_type": "markdown",
   "metadata": {
    "id": "x50XDSaAJwA4"
   },
   "source": [
    "### API Keys"
   ]
  },
  {
   "cell_type": "markdown",
   "metadata": {
    "id": "vy8oHmYkJxn6"
   },
   "source": [
    "For this notebook, you will need the following API keys to run all examples end-to-end:\n",
    "\n",
    "- **NVIDIA Build:** You can obtain an NVIDIA Build API Key by creating an [NVIDIA Build](https://build.nvidia.com) account and generating a key at https://build.nvidia.com/settings/api-keys\n",
    "\n",
    "Then you can run the cell below:"
   ]
  },
  {
   "cell_type": "code",
   "execution_count": null,
   "metadata": {},
   "outputs": [],
   "source": [
    "import getpass\n",
    "import os\n",
    "\n",
    "if \"NVIDIA_API_KEY\" not in os.environ:\n",
    "    nvidia_api_key = getpass.getpass(\"Enter your NVIDIA API key: \")\n",
    "    os.environ[\"NVIDIA_API_KEY\"] = nvidia_api_key"
   ]
  },
  {
   "cell_type": "markdown",
   "metadata": {
    "id": "wEOYG2b-J1ys"
   },
   "source": [
    "## Installing NeMo Agent Toolkit"
   ]
  },
  {
   "cell_type": "markdown",
   "metadata": {
    "id": "OSICVNHGGm9l"
   },
   "source": [
    "The recommended way to install NAT is through `pip` or `uv pip`.\n",
    "\n",
    "First, we will install `uv` which offers parallel downloads and faster dependency resolution."
   ]
  },
  {
   "cell_type": "code",
   "execution_count": null,
   "metadata": {},
   "outputs": [],
   "source": [
    "!pip install uv"
   ]
  },
  {
   "cell_type": "markdown",
   "metadata": {
    "id": "EBV2Gh9NIC8R"
   },
   "source": [
    "NeMo Agent toolkit can be installed through the PyPI `nvidia-nat` package.\n",
    "\n",
    "There are several optional subpackages available for NAT. The `langchain` subpackage contains useful components for integrating and running within [LangChain](https://python.langchain.com/docs/introduction/). Since LangChain will be used later in this notebook, let's install NAT with the optional `langchain` subpackage."
   ]
  },
  {
   "cell_type": "code",
   "execution_count": null,
   "metadata": {},
   "outputs": [],
   "source": [
    "!uv pip install \"nvidia-nat[langchain]\""
   ]
  },
  {
   "cell_type": "markdown",
   "metadata": {
    "id": "caScQ4VxJ8Ks"
   },
   "source": [
    "## Creating Your First Workflow"
   ]
  },
  {
   "cell_type": "markdown",
   "metadata": {
    "id": "l7kWJ8yeJJhQ"
   },
   "source": [
    "A [workflow](https://docs.nvidia.com/nemo/agent-toolkit/latest/workflows/about/index.html) in NeMo Agent Toolkit is a structured specification of how agents, models, tools (called functions), embedders, and other components are composed together to carry out a specific task. It defines which components are used, how they are connected, and how they behave when executing the task.\n",
    "\n",
    "NAT provides a convenient command-line interface called `nat` which is accessible in your active Python environment. It serves at the entrypoint to most toolkit functions.\n",
    "\n",
    "The `nat workflow create` command allows us to create a new workflow."
   ]
  },
  {
   "cell_type": "code",
   "execution_count": null,
   "metadata": {},
   "outputs": [],
   "source": [
    "!nat workflow create getting_started"
   ]
  },
  {
   "cell_type": "markdown",
   "metadata": {
    "id": "iSDMOrSQKtBr"
   },
   "source": [
    "### Workflow Structure\n",
    "\n",
    "We can inspect the structure of the created workflow directory:"
   ]
  },
  {
   "cell_type": "code",
   "execution_count": null,
   "metadata": {},
   "outputs": [],
   "source": [
    "!find getting_started/"
   ]
  },
  {
   "cell_type": "markdown",
   "metadata": {
    "id": "fjBICzW-K0kF"
   },
   "source": [
    "A summary of the high-level components are outlined below.\n",
    "\n",
    "* `configs` (symbolic link to `src/getting_started/configs`)\n",
    "* `data` (symbolic link to `src/getting_started/data`)\n",
    "* `pyproject.toml` Python project configuration file\n",
    "* `src`\n",
    "  * `getting_started`\n",
    "    * `__init__.py` Module init file (empty)\n",
    "    * `configs` Configuration directory for workflow specifications\n",
    "      * `config.yml` Workflow configuration file\n",
    "    * `data` Data directory for any dependent files\n",
    "    * `getting_started.py` User-defined code for workflow execution\n",
    "    * `register.py` Automatic registration of project components\n"
   ]
  },
  {
   "cell_type": "markdown",
   "metadata": {
    "id": "HAsjWuDSTjbC"
   },
   "source": [
    "<a id=\"workflow-configuration-file\"></a>\n",
    "### Workflow Configuration File\n",
    "\n",
    "First, we will look at the contents of the workflow configuration file `config.yml`."
   ]
  },
  {
   "cell_type": "code",
   "execution_count": null,
   "metadata": {},
   "outputs": [],
   "source": [
    "%load getting_started/configs/config.yml"
   ]
  },
  {
   "cell_type": "markdown",
   "metadata": {
    "id": "t6D026_fM-h2"
   },
   "source": [
    "The above workflow configuration has the following components:\n",
    "- a [built-in `current_datetime`](https://docs.nvidia.com/nemo/agent-toolkit/latest/api/nat/tool/datetime_tools/index.html#nat.tool.datetime_tools.current_datetime) function\n",
    "- a workflow-defined `getting_started` function\n",
    "- an LLM\n",
    "- an entrypoint workflow of a [built-in ReAct agent](https://docs.nvidia.com/nemo/agent-toolkit/latest/workflows/about/react-agent.html)\n",
    "\n",
    "The ReAct agent is given both of the functions which it may decide to call based on user input. The agent uses the LLM to help make reasoning decisions and then performs a subsequent action.\n",
    "\n",
    "This workflow configuration file is a YAML-serialized version of the [`Config`](https://docs.nvidia.com/nemo/agent-toolkit/latest/api/nat/data_models/config/index.html#nat.data_models.config.Config) class. Each category within the high-level configuration specifies runtime configuration settings for their corresponding components. For instance, the `workflow` category contains all configuration settings for the entrypoint workflow. This configuration file is validated as typed Pydantic models and fields. All configuration classes have validation rules, default values, and documentation which enable type-safe configuration management, automatic schema generation, and validation across the entire plugin ecosystem.\n",
    "\n",
    "* `general` - General configuration section. Contains high-level configurations for front-end definitions.\n",
    "* `authentication` - Authentication provides an interface for defining and interacting with various authentication providers.\n",
    "* `llms` - LLMs provide an interface for interacting with LLM providers.\n",
    "* `embedders` - Embedders provide an interface for interacting with embedding model providers.\n",
    "* `retreivers` - Retrievers provide an interface for searching and retrieving documents.\n",
    "* `memory` - Configurations for Memory. Memories provide an interface for storing and retrieving.\n",
    "* `object_stores` - Object Stores provide a CRUD interface for objects and data.\n",
    "* `eval` - The evaluation section provides configuration options related to the profiling and evaluation of NAT workflows.\n",
    "* `tcc_strategies` (experimental) - Test Time Compute (TTC) strategy definitions.\n",
    "\n",
    "#### Type Safety and Validation\n",
    "\n",
    "Many components within the workflow configuration specify `_type`. This YAML key is used to indicate the type of the component so NAT can properly validate and instantiate a component within the workflow. For example, [`NIMModelConfig`](https://docs.nvidia.com/nemo/agent-toolkit/latest/api/nat/llm/nim_llm/index.html#nat.llm.nim_llm.NIMModelConfig) is a subclass of [`LLMBaseConfig`](https://docs.nvidia.com/nemo/agent-toolkit/latest/api/nat/data_models/llm/index.html#nat.data_models.llm.LLMBaseConfig) so when we specify: `_type: nim` in the configuration the toolkit knows to validate the configuration with `NIMModelConfig`.\n",
    "\n",
    "**Note:** Not all configuration components are required. The simplest workflow configuration needs to only define `workflow`.\n",
    "\n"
   ]
  },
  {
   "cell_type": "markdown",
   "metadata": {
    "id": "tPLvWYvtTpNF"
   },
   "source": [
    "<a id=\"workflow-function\"></a>\n",
    "### Workflow Function\n",
    "\n",
    "Next, let's inspect the contents of the generated workflow function:"
   ]
  },
  {
   "cell_type": "code",
   "execution_count": null,
   "metadata": {},
   "outputs": [],
   "source": [
    "%load getting_started/src/getting_started/getting_started.py"
   ]
  },
  {
   "cell_type": "markdown",
   "metadata": {
    "id": "3H5fib-jTvwq"
   },
   "source": [
    "#### Function Configuration\n",
    "\n",
    "The `GettingStartedFunctionConfig` specifies `FunctionBaseConfig` as a base class. There is also a `name` specified. This name is used by the toolkit to create a static mapping when `_type` is specified anywhere where a `FunctionBaseConfig` is expected, such as `workflow` or under `functions`."
   ]
  },
  {
   "cell_type": "markdown",
   "metadata": {
    "id": "3WncUuuuTxxa"
   },
   "source": [
    "#### Function Registration\n",
    "\n",
    "NeMo Agent toolkit relies on a configuration with builder pattern to define most components. For functions, `@register_function` is a decorator that must be specified to inform the toolkit that a function should be accessible automatically by name when referenced. The decorator requires that a `config_type` is specified. This is done to ensure type safety and validation.\n",
    "\n",
    "The parameters to the decorated function are always:\n",
    "\n",
    "1. the configuration type of the function/component\n",
    "2. a Builder which can be used to dynamically query and get other workflow components."
   ]
  },
  {
   "cell_type": "markdown",
   "metadata": {
    "id": "KI8H8IoqT0TX"
   },
   "source": [
    "#### Function Implementation\n",
    "\n",
    "The core logic of the `getting_started` function is embedded as a function within the outer function registration. This is done for a few reasons:\n",
    "\n",
    "* Enables dynamic importing of libraries and modules on an as-needed basis.\n",
    "* Enables context manager-like resources within to support automatic closing of resources.\n",
    "* Provides the most flexibility to users when defining their own functions.\n",
    "\n",
    "Near the end of the function registration implementation, we `yield` a `FunctionInfo` object. `FunctionInfo` is a wrapper around any type of function. It is also possible to specify additional information such as schema and converters if your function relies on transformations.\n",
    "\n",
    "NAT relies on `yield` rather `return` so resources can stay alive during the lifetime of the function or workflow."
   ]
  },
  {
   "cell_type": "markdown",
   "metadata": {
    "id": "XYfRqWaQBHLT"
   },
   "source": [
    "<a id=\"tying-it-together\"></a>\n",
    "### Tying It Together\n",
    "\n",
    "Looking back at the configuration file, the `workflow`'s `_type` is `getting_started`. This means that the configuration of `workflow` will be validated based on the `GettingStartedFunctionConfig` implementation.\n",
    "\n",
    "The `register.py` file tells NAT what should automatically be imported so it is available when the toolkit is loaded."
   ]
  },
  {
   "cell_type": "code",
   "execution_count": null,
   "metadata": {},
   "outputs": [],
   "source": [
    "%load getting_started/src/getting_started/register.py"
   ]
  },
  {
   "cell_type": "markdown",
   "metadata": {
    "id": "YxP2QC1rT9UQ"
   },
   "source": [
    "## Running Your First Workflow"
   ]
  },
  {
   "cell_type": "markdown",
   "metadata": {
    "id": "9D7yNW7ySCaY"
   },
   "source": [
    "You can run a workflow by using `nat run` command:"
   ]
  },
  {
   "cell_type": "code",
   "execution_count": null,
   "metadata": {},
   "outputs": [],
   "source": [
    "!nat run --config_file getting_started/configs/config.yml \\\n",
    "         --input \"Can you echo back my name, Will?\""
   ]
  },
  {
   "cell_type": "markdown",
   "metadata": {
    "id": "628pQAJLSJHF"
   },
   "source": [
    "### Running a NAT Server\n",
    "\n",
    "NAT provides another mechanism for running workflows through `nat serve`. `nat serve` creates and launches a FastAPI web server for interfacing with the toolkit as though it was an OpenAI-compatible endpoint. To learn more about all endpoints served by `nat serve`, please consult [this documentation](https://docs.nvidia.com/nemo/agent-toolkit/latest/reference/api-server-endpoints.html).\n",
    "\n",
    "If running this notebook in a cloud provider such as Google Colab, `dask` may be installed. If it is, you will first have to uninstall it via:"
   ]
  },
  {
   "cell_type": "code",
   "execution_count": null,
   "metadata": {},
   "outputs": [],
   "source": [
    "!pip uninstall -y dask"
   ]
  },
  {
   "cell_type": "markdown",
   "metadata": {
    "id": "HAk1zzpjWaTF"
   },
   "source": [
    "To start the FastAPI web server, issue the following command:"
   ]
  },
  {
   "cell_type": "code",
   "execution_count": null,
   "metadata": {},
   "outputs": [],
   "source": [
    "%%bash --bg\n",
    "nat serve --config_file getting_started/configs/config.yml"
   ]
  },
  {
   "cell_type": "markdown",
   "metadata": {
    "id": "gXbyoAnJSq-v"
   },
   "source": [
    "It will take several seconds for the server to be reachable. The default port for the server is `8000` with `localhost` access.\n",
    "\n",
    "Note that `--input` was not required for `nat serve`. To issue a request to the server, you can then do:"
   ]
  },
  {
   "cell_type": "code",
   "execution_count": null,
   "metadata": {},
   "outputs": [],
   "source": [
    "%%bash\n",
    "\n",
    "# Issue a request to the background service\n",
    "curl --request POST \\\n",
    "  --url http://localhost:8000/chat \\\n",
    "  --header 'Content-Type: application/json' \\\n",
    "  --data '{\n",
    "    \"messages\": [\n",
    "        {\n",
    "          \"role\": \"user\",\n",
    "          \"content\": \"What is the current time?\"\n",
    "        }\n",
    "      ]\n",
    "    }' | jq\n",
    "\n",
    "# Terminate the process after completion\n",
    "pkill -9 -f \"nat serve\""
   ]
  },
  {
   "cell_type": "markdown",
   "metadata": {
    "id": "0jTB70LnW2it"
   },
   "source": [
    "### Running NAT Embedded within Python\n",
    "\n",
    "The last way to run a NAT workflow is by embedding it into an already existing Python application or library.\n",
    "\n",
    "Consider the following code:"
   ]
  },
  {
   "cell_type": "code",
   "execution_count": null,
   "metadata": {},
   "outputs": [],
   "source": [
    "%%writefile nat_embedded.py\n",
    "import asyncio\n",
    "import sys\n",
    "from collections.abc import Generator\n",
    "from typing import Callable\n",
    "\n",
    "from nat.runtime.loader import load_workflow\n",
    "from nat.utils.type_utils import StrPath\n",
    "\n",
    "\n",
    "async def get_callable_for_workflow(config_file: StrPath):\n",
    "    \"\"\"\n",
    "    Creates an end-to-end async callable which can run a NAT workflow.\n",
    "\n",
    "    Note that this \"yields\" the callable so you have to access via an\n",
    "    asynchronous generator:\n",
    "\n",
    "      async for callable in get_callable_for_workflow(..)):\n",
    "          # use callable here\n",
    "\n",
    "    Args:\n",
    "        config_file (StrPath): a valid path to a NAT configuration file\n",
    "\n",
    "    Yields:\n",
    "        The callable\n",
    "    \"\"\"\n",
    "    # load a given workflow from a configuration file\n",
    "    async with load_workflow(config_file) as workflow:\n",
    "\n",
    "        # create an async callable that runs the workflow\n",
    "        async def single_call(input_str: str) -> str:\n",
    "\n",
    "            # run the input through the workflow\n",
    "            async with workflow.run(input_str) as runner:\n",
    "                # wait for the result and cast it to a string\n",
    "                return await runner.result(to_type=str)\n",
    "\n",
    "        yield single_call\n",
    "\n",
    "\n",
    "async def batch_repl(processor: Callable[[str], Generator[None, None, str]]):\n",
    "    # build a list of queries\n",
    "    queries = []\n",
    "    try:\n",
    "        while True:\n",
    "            queries.append(input())\n",
    "    except:\n",
    "        pass\n",
    "\n",
    "    # create a list of tasks\n",
    "    tasks = [processor(q) for q in queries]\n",
    "\n",
    "    # wait for all tasks to finish (gather in parallel)\n",
    "    results = await asyncio.gather(*tasks)\n",
    "\n",
    "    for i, (query, result) in enumerate(zip(queries, results)):\n",
    "        print(f\"Query {i + 1}: {query}\")\n",
    "        print(f\"Result {i + 1}: {result}\")\n",
    "\n",
    "\n",
    "async def amain():\n",
    "    async for callable in get_callable_for_workflow(sys.argv[1]):\n",
    "        await batch_repl(callable)\n",
    "\n",
    "\n",
    "asyncio.run(amain())"
   ]
  },
  {
   "cell_type": "markdown",
   "metadata": {
    "id": "27FCs1byYlYb"
   },
   "source": [
    "Then we can run it as a normal Python program:"
   ]
  },
  {
   "cell_type": "code",
   "execution_count": null,
   "metadata": {},
   "outputs": [],
   "source": [
    "%%bash\n",
    "python nat_embedded.py getting_started/configs/config.yml <<EOF\n",
    "What are you capable of doing?\n",
    "What does the 'current_datetime' tool do?\n",
    "What does the 'getting_started' tool do?\n",
    "What is the current time?\n",
    "Can you echo back my name, Evan?\n",
    "What is the current time?\n",
    "Can you echo back my name, Will?\n",
    "EOF"
   ]
  },
  {
   "cell_type": "markdown",
   "metadata": {
    "id": "MEtrDDQUjSpX"
   },
   "source": [
    "## Next Steps\n",
    "\n",
    "Next, look at \"Bringing Your Own Agent into NeMo Agent Toolkit\" where you will interactively learn how to adapt an existing agent into NAT."
   ]
  }
 ],
 "metadata": {
  "language_info": {
   "name": "python"
  }
 },
 "nbformat": 4,
 "nbformat_minor": 0
}
